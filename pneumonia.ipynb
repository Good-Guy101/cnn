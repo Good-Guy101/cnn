{
 "cells": [
  {
   "cell_type": "code",
   "execution_count": null,
   "id": "44726b0f",
   "metadata": {},
   "outputs": [],
   "source": [
    "import numpy as np\n",
    "import pandas as pd\n",
    "import os"
   ]
  },
  {
   "cell_type": "code",
   "execution_count": null,
   "id": "be91d4be",
   "metadata": {},
   "outputs": [],
   "source": [
    "import matplotlib.pyplot as plt\n",
    "import pydot\n",
    "import graphviz\n",
    "import seaborn as sns\n",
    "import tensorflow as tf\n",
    "import keras\n",
    "from keras import layers\n",
    "from keras.layers import Add, Activation, Dense, SeparableConv2D, Conv2D, MaxPool2D, Flatten, Dropout, BatchNormalization\n",
    "from keras.preprocessing.image import ImageDataGenerator\n",
    "from sklearn.model_selection import train_test_split\n",
    "from sklearn.metrics import classification_report,confusion_matrix\n",
    "import cv2"
   ]
  },
  {
   "cell_type": "code",
   "execution_count": null,
   "id": "ab54bb6c",
   "metadata": {},
   "outputs": [],
   "source": [
    "gpus = tf.config.list_physical_devices('GPU')\n",
    "if gpus:\n",
    "    try:\n",
    "    # Currently, memory growth needs to be the same across GPUs\n",
    "        for gpu in gpus:\n",
    "            tf.config.experimental.set_memory_growth(gpu, True)\n",
    "            logical_gpus = tf.config.list_logical_devices('GPU')\n",
    "            print(len(gpus), \"Physical GPUs,\", len(logical_gpus), \"Logical GPUs\")\n",
    "    except RuntimeError as e:\n",
    "    # Memory growth must be set before GPUs have been initialized\n",
    "        print(e)"
   ]
  },
  {
   "cell_type": "code",
   "execution_count": null,
   "id": "4920a8e5",
   "metadata": {},
   "outputs": [],
   "source": [
    "def get_data(data_dir):\n",
    "    img_dim = 256\n",
    "    labels = [\"NORMAL\",\"PNEUMONIA\"]\n",
    "    data = []\n",
    "    for label in labels:\n",
    "        path = os.path.join(data_dir, label)\n",
    "        for file in os.listdir(path):\n",
    "            img = cv2.imread(os.path.join(path, file), cv2.IMREAD_GRAYSCALE)\n",
    "            img_resize = cv2.resize(img, (img_dim, img_dim), interpolation=cv2.INTER_CUBIC)\n",
    "            data.append([np.array(img_resize), labels.index(label)])\n",
    "\n",
    "    return np.array(data, dtype=object)\n",
    "def preprocess(data):\n",
    "    #must be in form [(x,y),...]\n",
    "    x_data = []\n",
    "    y_data = []\n",
    "    for x, y in data:\n",
    "        x_data.append(x)\n",
    "        y_data.append(y)\n",
    "    return np.expand_dims(np.array(x_data), axis=-1), np.expand_dims(np.array(y_data), axis=-1)"
   ]
  },
  {
   "cell_type": "code",
   "execution_count": null,
   "id": "c275f8d7",
   "metadata": {},
   "outputs": [],
   "source": [
    "train = get_data(\"./chest_xray/train\")\n",
    "test = get_data(\"./chest_xray/test\") \n",
    "val = get_data(\"./chest_xray/val\")"
   ]
  },
  {
   "cell_type": "code",
   "execution_count": null,
   "id": "2c08aedb",
   "metadata": {},
   "outputs": [],
   "source": [
    "x_train, y_train = preprocess(train)\n",
    "x_test, y_test = preprocess(test)\n",
    "x_val, y_val = preprocess(val)"
   ]
  },
  {
   "cell_type": "code",
   "execution_count": null,
   "id": "9b5a4ec3",
   "metadata": {},
   "outputs": [],
   "source": [
    "#train_dataset = tf.data.Dataset.from_tensor_slices((x_train, y_train))\n",
    "#test_dataset = tf.data.Dataset.from_tensor_slices((x_test, y_test))\n",
    "#val_dataset = tf.data.Dataset.from_tensor_slices((x_val, y_val))\n",
    "train_dataset = tf.keras.utils.image_dataset_from_directory(\"./chest_xray/train\",\n",
    "                                                            color_mode = 'grayscale',\n",
    "                                                            batch_size = 8,\n",
    "                                                            interpolation = 'bicubic'\n",
    "                                                           )\n",
    "\n",
    "test_dataset = tf.keras.utils.image_dataset_from_directory(\"./chest_xray/test\",\n",
    "                                                            color_mode = 'grayscale',\n",
    "                                                            batch_size = 8,\n",
    "                                                            interpolation = 'bicubic'\n",
    "                                                           )\n",
    "val_dataset = tf.keras.utils.image_dataset_from_directory(\"./chest_xray/val\",\n",
    "                                                            color_mode = 'grayscale',\n",
    "                                                            batch_size = 8,\n",
    "                                                            interpolation = 'bicubic'\n",
    "                                                           )"
   ]
  },
  {
   "cell_type": "code",
   "execution_count": null,
   "id": "4fd4c1d2",
   "metadata": {},
   "outputs": [],
   "source": [
    "fig, ax = plt.subplots(1,2)\n",
    "ax[0].imshow(x_val[0], cmap=\"gray\")\n",
    "ax[0].title.set_text(\"Normal\")\n",
    "ax[1].imshow(x_val[-1], cmap=\"gray\")\n",
    "ax[1].title.set_text(\"Pneumonia\")"
   ]
  },
  {
   "cell_type": "code",
   "execution_count": null,
   "id": "760c05ea",
   "metadata": {},
   "outputs": [],
   "source": [
    "count_0 = 0\n",
    "count_1 = 0\n",
    "for x in range(len(y_train)):\n",
    "    if y_train[x] == 0:\n",
    "        count_0 += 1\n",
    "    else:\n",
    "        count_1 += 1\n",
    "\n",
    "fig, ax = plt.subplots()\n",
    "bar = ax.bar([\"NORMAL\", \"PNEUMONIA\"], [count_0, count_1])\n",
    "ax.bar_label(bar)\n",
    "plt.title(\"Data Split\")\n",
    "        "
   ]
  },
  {
   "cell_type": "code",
   "execution_count": null,
   "id": "2a3ff78a",
   "metadata": {},
   "outputs": [],
   "source": [
    "def cnn_model(input_shape):\n",
    "    inputs = keras.Input(shape=input_shape)\n",
    "    x = layers.Rescaling(1./255)(inputs)\n",
    "    \n",
    "    x = Conv2D(128, 3, strides=2, padding=\"same\")(inputs)\n",
    "    x = BatchNormalization()(x)\n",
    "    x = Activation(\"relu\")(x)\n",
    "    previous = x #residual to improve neuron independence\n",
    "    \n",
    "    for size in [256, 512, 728]:\n",
    "        x = Activation(\"relu\")(x)\n",
    "        x = SeparableConv2D(size, 3, padding=\"same\")(x)\n",
    "        x = BatchNormalization()(x)\n",
    "        \n",
    "        x = Activation(\"relu\")(x)\n",
    "        x = SeparableConv2D(size, 3, padding=\"same\")(x)\n",
    "        x = BatchNormalization()(x)\n",
    "        \n",
    "        x = keras.layers.MaxPooling2D(3, strides=2, padding=\"same\")(x)\n",
    "        \n",
    "        residual = Conv2D(size, 1, strides=2, padding=\"same\")(previous)\n",
    "        x = keras.layers.add([x, residual])\n",
    "        previous = x\n",
    "        \n",
    "    x = SeparableConv2D(1024, 3, padding=\"same\")(x)\n",
    "    x = BatchNormalization()(x)\n",
    "    x = Activation(\"relu\")(x)\n",
    "    \n",
    "    x = keras.layers.GlobalAveragePooling2D()(x)\n",
    "    x = layers.Dropout(0.5)(x)\n",
    "    outputs = Dense(1, activation=\"sigmoid\")(x)\n",
    "    \n",
    "    return keras.Model(inputs, outputs)\n",
    "    "
   ]
  },
  {
   "cell_type": "code",
   "execution_count": null,
   "id": "bc1a0c6b",
   "metadata": {},
   "outputs": [],
   "source": [
    "model = cnn_model((256,256,1))\n"
   ]
  },
  {
   "cell_type": "code",
   "execution_count": null,
   "id": "90ffcce7",
   "metadata": {},
   "outputs": [],
   "source": [
    "model.summary()\n",
    "keras.utils.plot_model(model, show_shapes=True)"
   ]
  },
  {
   "cell_type": "code",
   "execution_count": null,
   "id": "6025db46",
   "metadata": {},
   "outputs": [],
   "source": [
    "num_epochs = 25\n",
    "\n",
    "callbacks = [\n",
    "    keras.callbacks.ModelCheckpoint(\"save_at_{epoch}.keras\"),\n",
    "]\n",
    "\n",
    "model.compile(\n",
    "    optimizer=keras.optimizers.Adam(1e-3),\n",
    "    loss=\"binary_crossentropy\",\n",
    "    metrics=[\"accuracy\"],\n",
    ")\n",
    "\n",
    "history = model.fit(\n",
    "    train_dataset,\n",
    "    epochs =  num_epochs,\n",
    "    validation_data = val_dataset,\n",
    "    callbacks = callbacks\n",
    ")"
   ]
  },
  {
   "cell_type": "code",
   "execution_count": null,
   "id": "1c7a063e",
   "metadata": {},
   "outputs": [],
   "source": [
    "test_results = model.evaluate(test_dataset)\n",
    "print(\"Loss of the model is - \" , test_results[0])\n",
    "print(\"Accuracy of the model is - \" , test_results[1]*100 , \"%\")"
   ]
  },
  {
   "cell_type": "code",
   "execution_count": null,
   "id": "c7a8063c",
   "metadata": {},
   "outputs": [],
   "source": [
    "plt.plot(history.history['accuracy'])\n",
    "plt.plot(history.history['val_accuracy'])\n",
    "plt.title('model accuracy')\n",
    "plt.ylabel('accuracy')\n",
    "plt.xlabel('epoch')\n",
    "plt.legend(['train', 'test'], loc='upper left')\n",
    "plt.show()\n",
    "# summarize history for loss\n",
    "plt.plot(history.history['loss'])\n",
    "plt.plot(history.history['val_loss'])\n",
    "plt.title('model loss')\n",
    "plt.ylabel('loss')\n",
    "plt.xlabel('epoch')\n",
    "plt.legend(['train', 'test'], loc='upper left')\n",
    "plt.show()"
   ]
  },
  {
   "cell_type": "code",
   "execution_count": null,
   "id": "a0e2a0b7",
   "metadata": {},
   "outputs": [],
   "source": [
    "results = []\n",
    "for i in range(1,25):\n",
    "    testmodel = keras.models.load_model(\"save_at_\" + str(i) + \".keras\")\n",
    "    results.append(testmodel.evaluate(test_dataset))\n",
    "\n",
    "plt.plot(results)\n",
    "plt.title('model accuracy')\n",
    "plt.ylabel('accuracy')\n",
    "plt.xlabel('epoch')\n",
    "plt.show()\n"
   ]
  },
  {
   "cell_type": "code",
   "execution_count": null,
   "id": "43b34847",
   "metadata": {
    "scrolled": false
   },
   "outputs": [],
   "source": [
    "plt.plot(results)\n",
    "plt.title('model accuracy')\n",
    "plt.ylabel('accuracy')\n",
    "plt.xlabel('epoch')\n",
    "plt.show()\n"
   ]
  },
  {
   "cell_type": "code",
   "execution_count": null,
   "id": "c4a1cbd2",
   "metadata": {},
   "outputs": [],
   "source": [
    "testmodel = keras.models.load_model(\"save_at_13.keras\")"
   ]
  },
  {
   "cell_type": "code",
   "execution_count": null,
   "id": "a461bc5a",
   "metadata": {},
   "outputs": [],
   "source": [
    "testmodel.evaluate(test_dataset)"
   ]
  },
  {
   "cell_type": "code",
   "execution_count": null,
   "id": "97be986b",
   "metadata": {},
   "outputs": [],
   "source": [
    "testmodel "
   ]
  },
  {
   "cell_type": "code",
   "execution_count": null,
   "id": "2f09be05",
   "metadata": {},
   "outputs": [],
   "source": [
    "filters, bias = testmodel.layers[1].get_weights()\n",
    "f_min, f_max = filters.min(), filters.max()\n",
    "filters = (filters - f_min) / (f_max - f_min)\n",
    "\n",
    "n_filters, ix = 6, 1\n",
    "for i in range(n_filters):\n",
    "    # get the filter\n",
    "    f = filters[:, :, :, i]\n",
    "    # specify subplot and turn of axis\n",
    "    ax = plt.subplot(n_filters, 6, ix)\n",
    "    ax.set_xticks([])\n",
    "    ax.set_yticks([])\n",
    "    # plot filter channel in grayscale\n",
    "    plt.imshow(f[:, :], cmap='gray')\n",
    "    ix += 1\n",
    "# show the figure\n",
    "plt.show()"
   ]
  },
  {
   "cell_type": "code",
   "execution_count": null,
   "id": "0b5b5547",
   "metadata": {},
   "outputs": [],
   "source": [
    "filtermodel = keras.Model(inputs=testmodel.inputs, outputs=testmodel.layers[1].output)\n",
    "filtermodel.summary()"
   ]
  },
  {
   "cell_type": "code",
   "execution_count": null,
   "id": "11607c55",
   "metadata": {},
   "outputs": [],
   "source": [
    "maps = filtermodel.predict(x_val)"
   ]
  },
  {
   "cell_type": "code",
   "execution_count": null,
   "id": "092932c7",
   "metadata": {},
   "outputs": [],
   "source": [
    "filter_img = maps[0,:,:,:]"
   ]
  },
  {
   "cell_type": "code",
   "execution_count": null,
   "id": "723bdb7b",
   "metadata": {},
   "outputs": [],
   "source": [
    "filter_img.shape"
   ]
  },
  {
   "cell_type": "code",
   "execution_count": null,
   "id": "dcbcc31c",
   "metadata": {},
   "outputs": [],
   "source": [
    "filter_img = maps[0,:,:,:]\n",
    "ix = 1\n",
    "for _ in range(8):\n",
    "    for _ in range(16):\n",
    "    # specify subplot and turn of axis\n",
    "        ax = plt.subplot(8, 16, ix)\n",
    "        ax.set_xticks([])\n",
    "        ax.set_yticks([])\n",
    "        # plot filter channel in grayscale\n",
    "        plt.imshow(filter_img[:, :, ix-1], cmap='gray')\n",
    "        ix += 1\n",
    "# show the figure\n",
    "plt.show()"
   ]
  },
  {
   "cell_type": "code",
   "execution_count": null,
   "id": "ed4db21f",
   "metadata": {},
   "outputs": [],
   "source": [
    "filter_img = maps[-1,:,:,:]\n",
    "ix = 1\n",
    "for _ in range(8):\n",
    "    for _ in range(16):\n",
    "    # specify subplot and turn of axis\n",
    "        ax = plt.subplot(8, 16, ix)\n",
    "        ax.set_xticks([])\n",
    "        ax.set_yticks([])\n",
    "        # plot filter channel in grayscale\n",
    "        plt.imshow(filter_img[:, :, ix-1], cmap='gray')\n",
    "        ix += 1\n",
    "# show the figure\n",
    "plt.show()"
   ]
  },
  {
   "cell_type": "code",
   "execution_count": null,
   "id": "fc05f966",
   "metadata": {},
   "outputs": [],
   "source": []
  }
 ],
 "metadata": {
  "kernelspec": {
   "display_name": "Python 3 (ipykernel)",
   "language": "python",
   "name": "python3"
  },
  "language_info": {
   "codemirror_mode": {
    "name": "ipython",
    "version": 3
   },
   "file_extension": ".py",
   "mimetype": "text/x-python",
   "name": "python",
   "nbconvert_exporter": "python",
   "pygments_lexer": "ipython3",
   "version": "3.11.4"
  }
 },
 "nbformat": 4,
 "nbformat_minor": 5
}
